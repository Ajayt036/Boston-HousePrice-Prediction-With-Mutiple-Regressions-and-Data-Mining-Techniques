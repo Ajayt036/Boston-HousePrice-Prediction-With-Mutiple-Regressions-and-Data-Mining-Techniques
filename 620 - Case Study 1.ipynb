{
 "cells": [
  {
   "cell_type": "markdown",
   "id": "2ba8d9d7",
   "metadata": {},
   "source": [
    "## Import Libraries"
   ]
  },
  {
   "cell_type": "code",
   "execution_count": 358,
   "id": "0c2e237d",
   "metadata": {},
   "outputs": [],
   "source": [
    "import numpy as np\n",
    "import pandas as pd\n",
    "\n",
    "import matplotlib.pyplot as plt\n",
    "import seaborn as sns\n",
    "\n",
    "\n",
    "from sklearn.model_selection import train_test_split\n",
    "from sklearn.linear_model import LinearRegression\n",
    "from sklearn.metrics import r2_score\n",
    "\n",
    "from dmba import regressionSummary, exhaustive_search\n",
    "from dmba import backward_elimination, forward_selection, stepwise_selection\n",
    "from dmba import adjusted_r2_score, AIC_score, BIC_score\n"
   ]
  },
  {
   "cell_type": "markdown",
   "id": "a769bd87",
   "metadata": {},
   "source": [
    "## 1A. \n"
   ]
  },
  {
   "cell_type": "code",
   "execution_count": 359,
   "id": "2ad31a59",
   "metadata": {},
   "outputs": [
    {
     "name": "stdout",
     "output_type": "stream",
     "text": [
      "Number of Rows  506\n",
      "Number of Columns:  14 \n",
      "\n",
      "\n",
      "First 5 records of Data are: \n"
     ]
    },
    {
     "data": {
      "text/html": [
       "<div>\n",
       "<style scoped>\n",
       "    .dataframe tbody tr th:only-of-type {\n",
       "        vertical-align: middle;\n",
       "    }\n",
       "\n",
       "    .dataframe tbody tr th {\n",
       "        vertical-align: top;\n",
       "    }\n",
       "\n",
       "    .dataframe thead th {\n",
       "        text-align: right;\n",
       "    }\n",
       "</style>\n",
       "<table border=\"1\" class=\"dataframe\">\n",
       "  <thead>\n",
       "    <tr style=\"text-align: right;\">\n",
       "      <th></th>\n",
       "      <th>CRIME</th>\n",
       "      <th>ZONE</th>\n",
       "      <th>INDUST</th>\n",
       "      <th>CHAR RIV</th>\n",
       "      <th>NIT OXIDE</th>\n",
       "      <th>ROOMS</th>\n",
       "      <th>AGE</th>\n",
       "      <th>DISTANCE</th>\n",
       "      <th>RADIAL</th>\n",
       "      <th>TAX</th>\n",
       "      <th>ST RATIO</th>\n",
       "      <th>LOW STAT</th>\n",
       "      <th>MVALUE</th>\n",
       "      <th>C MVALUE</th>\n",
       "    </tr>\n",
       "  </thead>\n",
       "  <tbody>\n",
       "    <tr>\n",
       "      <th>0</th>\n",
       "      <td>0.00632</td>\n",
       "      <td>18.0</td>\n",
       "      <td>2.31</td>\n",
       "      <td>N</td>\n",
       "      <td>0.538</td>\n",
       "      <td>6.575</td>\n",
       "      <td>65.2</td>\n",
       "      <td>4.0900</td>\n",
       "      <td>1</td>\n",
       "      <td>296</td>\n",
       "      <td>15.3</td>\n",
       "      <td>4.98</td>\n",
       "      <td>24.0</td>\n",
       "      <td>No</td>\n",
       "    </tr>\n",
       "    <tr>\n",
       "      <th>1</th>\n",
       "      <td>0.02731</td>\n",
       "      <td>0.0</td>\n",
       "      <td>7.07</td>\n",
       "      <td>N</td>\n",
       "      <td>0.469</td>\n",
       "      <td>6.421</td>\n",
       "      <td>78.9</td>\n",
       "      <td>4.9671</td>\n",
       "      <td>2</td>\n",
       "      <td>242</td>\n",
       "      <td>17.8</td>\n",
       "      <td>9.14</td>\n",
       "      <td>21.6</td>\n",
       "      <td>No</td>\n",
       "    </tr>\n",
       "    <tr>\n",
       "      <th>2</th>\n",
       "      <td>0.02729</td>\n",
       "      <td>0.0</td>\n",
       "      <td>7.07</td>\n",
       "      <td>N</td>\n",
       "      <td>0.469</td>\n",
       "      <td>7.185</td>\n",
       "      <td>61.1</td>\n",
       "      <td>4.9671</td>\n",
       "      <td>2</td>\n",
       "      <td>242</td>\n",
       "      <td>17.8</td>\n",
       "      <td>4.03</td>\n",
       "      <td>34.7</td>\n",
       "      <td>Yes</td>\n",
       "    </tr>\n",
       "    <tr>\n",
       "      <th>3</th>\n",
       "      <td>0.03237</td>\n",
       "      <td>0.0</td>\n",
       "      <td>2.18</td>\n",
       "      <td>N</td>\n",
       "      <td>0.458</td>\n",
       "      <td>6.998</td>\n",
       "      <td>45.8</td>\n",
       "      <td>6.0622</td>\n",
       "      <td>3</td>\n",
       "      <td>222</td>\n",
       "      <td>18.7</td>\n",
       "      <td>2.94</td>\n",
       "      <td>33.4</td>\n",
       "      <td>Yes</td>\n",
       "    </tr>\n",
       "    <tr>\n",
       "      <th>4</th>\n",
       "      <td>0.06905</td>\n",
       "      <td>0.0</td>\n",
       "      <td>2.18</td>\n",
       "      <td>N</td>\n",
       "      <td>0.458</td>\n",
       "      <td>7.147</td>\n",
       "      <td>54.2</td>\n",
       "      <td>6.0622</td>\n",
       "      <td>3</td>\n",
       "      <td>222</td>\n",
       "      <td>18.7</td>\n",
       "      <td>5.33</td>\n",
       "      <td>36.2</td>\n",
       "      <td>Yes</td>\n",
       "    </tr>\n",
       "  </tbody>\n",
       "</table>\n",
       "</div>"
      ],
      "text/plain": [
       "     CRIME  ZONE  INDUST CHAR RIV  NIT OXIDE  ROOMS   AGE  DISTANCE  RADIAL  \\\n",
       "0  0.00632  18.0    2.31        N      0.538  6.575  65.2    4.0900       1   \n",
       "1  0.02731   0.0    7.07        N      0.469  6.421  78.9    4.9671       2   \n",
       "2  0.02729   0.0    7.07        N      0.469  7.185  61.1    4.9671       2   \n",
       "3  0.03237   0.0    2.18        N      0.458  6.998  45.8    6.0622       3   \n",
       "4  0.06905   0.0    2.18        N      0.458  7.147  54.2    6.0622       3   \n",
       "\n",
       "   TAX  ST RATIO  LOW STAT  MVALUE C MVALUE  \n",
       "0  296      15.3      4.98    24.0       No  \n",
       "1  242      17.8      9.14    21.6       No  \n",
       "2  242      17.8      4.03    34.7      Yes  \n",
       "3  222      18.7      2.94    33.4      Yes  \n",
       "4  222      18.7      5.33    36.2      Yes  "
      ]
     },
     "execution_count": 359,
     "metadata": {},
     "output_type": "execute_result"
    }
   ],
   "source": [
    "boston_df = pd.read_csv(\"BostonHousing.csv\")\n",
    "print(\"Number of Rows \",boston_df.shape[0])\n",
    "print(\"Number of Columns: \",boston_df.shape[1],\"\\n\"*2)\n",
    "print(\"First 5 records of Data are: \")\n",
    "boston_df.head()\n",
    "#I still need to extract space between column names"
   ]
  },
  {
   "cell_type": "markdown",
   "id": "671997d4",
   "metadata": {},
   "source": [
    "## 1B"
   ]
  },
  {
   "cell_type": "code",
   "execution_count": 360,
   "id": "929441d9",
   "metadata": {},
   "outputs": [
    {
     "name": "stdout",
     "output_type": "stream",
     "text": [
      "Modified column titles with no space and one word for titles: \n",
      "\n",
      "Index(['CRIME', 'ZONE', 'INDUST', 'CHAR_RIV', 'NIT_OXIDE', 'ROOMS', 'AGE',\n",
      "       'DISTANCE', 'RADIAL', 'TAX', 'ST_RATIO', 'LOW_STAT', 'MVALUE',\n",
      "       'C_MVALUE'],\n",
      "      dtype='object')\n"
     ]
    }
   ],
   "source": [
    "# We will strip trailing spaces and replace the remaining spaces with an underscore _. Instead of using \n",
    "# the `rename` method, we  create a modified copy of `columns` and assign to the `columns` field of the dataframe.\n",
    "\n",
    "print('Modified column titles with no space and one word for titles:',\"\\n\")\n",
    "boston_df.columns = [s.strip().replace(' ', '_') for s in boston_df.columns]\n",
    "print(boston_df.columns)\n"
   ]
  },
  {
   "cell_type": "markdown",
   "id": "495d1250",
   "metadata": {},
   "source": [
    "## 1C"
   ]
  },
  {
   "cell_type": "code",
   "execution_count": 361,
   "id": "65733b46",
   "metadata": {},
   "outputs": [
    {
     "name": "stdout",
     "output_type": "stream",
     "text": [
      "CRIME        float64\n",
      "ZONE         float64\n",
      "INDUST       float64\n",
      "CHAR_RIV      object\n",
      "NIT_OXIDE    float64\n",
      "ROOMS        float64\n",
      "AGE          float64\n",
      "DISTANCE     float64\n",
      "RADIAL         int64\n",
      "TAX            int64\n",
      "ST_RATIO     float64\n",
      "LOW_STAT     float64\n",
      "MVALUE       float64\n",
      "C_MVALUE      object\n",
      "dtype: object\n"
     ]
    }
   ],
   "source": [
    "print(boston_df.dtypes)"
   ]
  },
  {
   "cell_type": "code",
   "execution_count": 362,
   "id": "f21e5a1c",
   "metadata": {},
   "outputs": [
    {
     "name": "stdout",
     "output_type": "stream",
     "text": [
      "Column with Object data type in the dataset are: \n",
      "CHAR_RIV\n",
      "C_MVALUE\n",
      "\n",
      "Category levels and changed variable type of CHAR_RIV:\n",
      "Index(['N', 'Y'], dtype='object')\n",
      "category\n",
      "\n",
      "Category levels and changed variable type of C_MVALUE:\n",
      "Index(['No', 'Yes'], dtype='object')\n",
      "category\n"
     ]
    }
   ],
   "source": [
    "# WE Can see only two columns have object data type:\n",
    "print(\"Column with Object data type in the dataset are: \")\n",
    "for i in boston_df.columns:\n",
    "    if boston_df[i].dtype == \"O\":\n",
    "        print(i)\n",
    "            \n",
    "\n",
    "# Lets change these variable type to 'category'.\n",
    "boston_df.CHAR_RIV = boston_df.CHAR_RIV.astype('category')\n",
    "boston_df.C_MVALUE = boston_df.C_MVALUE.astype('category')\n",
    "\n",
    "\n",
    "# Display category levels (attributes) and category type FOR CHAR_RIV\n",
    "print(\"\")\n",
    "print('Category levels and changed variable type of CHAR_RIV:')\n",
    "print(boston_df.CHAR_RIV.cat.categories) \n",
    "print(boston_df.CHAR_RIV.dtype)\n",
    "\n",
    "\n",
    "# Display category levels (attributes) and category type FOR C_MVALUE\n",
    "print(\"\")\n",
    "print('Category levels and changed variable type of C_MVALUE:')\n",
    "print(boston_df.C_MVALUE.cat.categories) \n",
    "print(boston_df.C_MVALUE.dtype)\n"
   ]
  },
  {
   "cell_type": "code",
   "execution_count": 363,
   "id": "825a3d3d",
   "metadata": {},
   "outputs": [
    {
     "data": {
      "text/plain": [
       "Index(['CRIME', 'ZONE', 'INDUST', 'NIT_OXIDE', 'ROOMS', 'AGE', 'DISTANCE',\n",
       "       'RADIAL', 'TAX', 'ST_RATIO', 'LOW_STAT', 'MVALUE', 'CHAR_RIV_Y',\n",
       "       'C_MVALUE_Yes'],\n",
       "      dtype='object')"
      ]
     },
     "execution_count": 363,
     "metadata": {},
     "output_type": "execute_result"
    }
   ],
   "source": [
    "# Lets convert these categorical column to Dummy vraibales\n",
    "boston_df = pd.get_dummies(boston_df, prefix_sep='_', drop_first=True)\n",
    "boston_df.columns"
   ]
  },
  {
   "cell_type": "markdown",
   "id": "d20c9ea0",
   "metadata": {},
   "source": [
    "## 1D"
   ]
  },
  {
   "cell_type": "code",
   "execution_count": 364,
   "id": "1513aa26",
   "metadata": {},
   "outputs": [
    {
     "data": {
      "text/html": [
       "<div>\n",
       "<style scoped>\n",
       "    .dataframe tbody tr th:only-of-type {\n",
       "        vertical-align: middle;\n",
       "    }\n",
       "\n",
       "    .dataframe tbody tr th {\n",
       "        vertical-align: top;\n",
       "    }\n",
       "\n",
       "    .dataframe thead th {\n",
       "        text-align: right;\n",
       "    }\n",
       "</style>\n",
       "<table border=\"1\" class=\"dataframe\">\n",
       "  <thead>\n",
       "    <tr style=\"text-align: right;\">\n",
       "      <th></th>\n",
       "      <th>CRIME</th>\n",
       "      <th>ZONE</th>\n",
       "      <th>INDUST</th>\n",
       "      <th>NIT_OXIDE</th>\n",
       "      <th>ROOMS</th>\n",
       "      <th>AGE</th>\n",
       "      <th>DISTANCE</th>\n",
       "      <th>RADIAL</th>\n",
       "      <th>TAX</th>\n",
       "      <th>ST_RATIO</th>\n",
       "      <th>LOW_STAT</th>\n",
       "      <th>MVALUE</th>\n",
       "      <th>CHAR_RIV_Y</th>\n",
       "      <th>C_MVALUE_Yes</th>\n",
       "    </tr>\n",
       "  </thead>\n",
       "  <tbody>\n",
       "    <tr>\n",
       "      <th>count</th>\n",
       "      <td>506.000000</td>\n",
       "      <td>506.000000</td>\n",
       "      <td>506.000000</td>\n",
       "      <td>506.000000</td>\n",
       "      <td>506.000000</td>\n",
       "      <td>506.000000</td>\n",
       "      <td>506.000000</td>\n",
       "      <td>506.000000</td>\n",
       "      <td>506.000000</td>\n",
       "      <td>506.000000</td>\n",
       "      <td>506.000000</td>\n",
       "      <td>506.000000</td>\n",
       "      <td>506.000000</td>\n",
       "      <td>506.000000</td>\n",
       "    </tr>\n",
       "    <tr>\n",
       "      <th>mean</th>\n",
       "      <td>3.613524</td>\n",
       "      <td>11.363636</td>\n",
       "      <td>11.136779</td>\n",
       "      <td>0.554695</td>\n",
       "      <td>6.284634</td>\n",
       "      <td>68.574901</td>\n",
       "      <td>3.795043</td>\n",
       "      <td>9.549407</td>\n",
       "      <td>408.237154</td>\n",
       "      <td>18.455534</td>\n",
       "      <td>12.653063</td>\n",
       "      <td>22.532806</td>\n",
       "      <td>0.069170</td>\n",
       "      <td>0.166008</td>\n",
       "    </tr>\n",
       "    <tr>\n",
       "      <th>std</th>\n",
       "      <td>8.601545</td>\n",
       "      <td>23.322453</td>\n",
       "      <td>6.860353</td>\n",
       "      <td>0.115878</td>\n",
       "      <td>0.702617</td>\n",
       "      <td>28.148861</td>\n",
       "      <td>2.105710</td>\n",
       "      <td>8.707259</td>\n",
       "      <td>168.537116</td>\n",
       "      <td>2.164946</td>\n",
       "      <td>7.141062</td>\n",
       "      <td>9.197104</td>\n",
       "      <td>0.253994</td>\n",
       "      <td>0.372456</td>\n",
       "    </tr>\n",
       "    <tr>\n",
       "      <th>min</th>\n",
       "      <td>0.006320</td>\n",
       "      <td>0.000000</td>\n",
       "      <td>0.460000</td>\n",
       "      <td>0.385000</td>\n",
       "      <td>3.561000</td>\n",
       "      <td>2.900000</td>\n",
       "      <td>1.129600</td>\n",
       "      <td>1.000000</td>\n",
       "      <td>187.000000</td>\n",
       "      <td>12.600000</td>\n",
       "      <td>1.730000</td>\n",
       "      <td>5.000000</td>\n",
       "      <td>0.000000</td>\n",
       "      <td>0.000000</td>\n",
       "    </tr>\n",
       "    <tr>\n",
       "      <th>25%</th>\n",
       "      <td>0.082045</td>\n",
       "      <td>0.000000</td>\n",
       "      <td>5.190000</td>\n",
       "      <td>0.449000</td>\n",
       "      <td>5.885500</td>\n",
       "      <td>45.025000</td>\n",
       "      <td>2.100175</td>\n",
       "      <td>4.000000</td>\n",
       "      <td>279.000000</td>\n",
       "      <td>17.400000</td>\n",
       "      <td>6.950000</td>\n",
       "      <td>17.025000</td>\n",
       "      <td>0.000000</td>\n",
       "      <td>0.000000</td>\n",
       "    </tr>\n",
       "    <tr>\n",
       "      <th>50%</th>\n",
       "      <td>0.256510</td>\n",
       "      <td>0.000000</td>\n",
       "      <td>9.690000</td>\n",
       "      <td>0.538000</td>\n",
       "      <td>6.208500</td>\n",
       "      <td>77.500000</td>\n",
       "      <td>3.207450</td>\n",
       "      <td>5.000000</td>\n",
       "      <td>330.000000</td>\n",
       "      <td>19.050000</td>\n",
       "      <td>11.360000</td>\n",
       "      <td>21.200000</td>\n",
       "      <td>0.000000</td>\n",
       "      <td>0.000000</td>\n",
       "    </tr>\n",
       "    <tr>\n",
       "      <th>75%</th>\n",
       "      <td>3.677083</td>\n",
       "      <td>12.500000</td>\n",
       "      <td>18.100000</td>\n",
       "      <td>0.624000</td>\n",
       "      <td>6.623500</td>\n",
       "      <td>94.075000</td>\n",
       "      <td>5.188425</td>\n",
       "      <td>24.000000</td>\n",
       "      <td>666.000000</td>\n",
       "      <td>20.200000</td>\n",
       "      <td>16.955000</td>\n",
       "      <td>25.000000</td>\n",
       "      <td>0.000000</td>\n",
       "      <td>0.000000</td>\n",
       "    </tr>\n",
       "    <tr>\n",
       "      <th>max</th>\n",
       "      <td>88.976200</td>\n",
       "      <td>100.000000</td>\n",
       "      <td>27.740000</td>\n",
       "      <td>0.871000</td>\n",
       "      <td>8.780000</td>\n",
       "      <td>100.000000</td>\n",
       "      <td>12.126500</td>\n",
       "      <td>24.000000</td>\n",
       "      <td>711.000000</td>\n",
       "      <td>22.000000</td>\n",
       "      <td>37.970000</td>\n",
       "      <td>50.000000</td>\n",
       "      <td>1.000000</td>\n",
       "      <td>1.000000</td>\n",
       "    </tr>\n",
       "  </tbody>\n",
       "</table>\n",
       "</div>"
      ],
      "text/plain": [
       "            CRIME        ZONE      INDUST   NIT_OXIDE       ROOMS         AGE  \\\n",
       "count  506.000000  506.000000  506.000000  506.000000  506.000000  506.000000   \n",
       "mean     3.613524   11.363636   11.136779    0.554695    6.284634   68.574901   \n",
       "std      8.601545   23.322453    6.860353    0.115878    0.702617   28.148861   \n",
       "min      0.006320    0.000000    0.460000    0.385000    3.561000    2.900000   \n",
       "25%      0.082045    0.000000    5.190000    0.449000    5.885500   45.025000   \n",
       "50%      0.256510    0.000000    9.690000    0.538000    6.208500   77.500000   \n",
       "75%      3.677083   12.500000   18.100000    0.624000    6.623500   94.075000   \n",
       "max     88.976200  100.000000   27.740000    0.871000    8.780000  100.000000   \n",
       "\n",
       "         DISTANCE      RADIAL         TAX    ST_RATIO    LOW_STAT      MVALUE  \\\n",
       "count  506.000000  506.000000  506.000000  506.000000  506.000000  506.000000   \n",
       "mean     3.795043    9.549407  408.237154   18.455534   12.653063   22.532806   \n",
       "std      2.105710    8.707259  168.537116    2.164946    7.141062    9.197104   \n",
       "min      1.129600    1.000000  187.000000   12.600000    1.730000    5.000000   \n",
       "25%      2.100175    4.000000  279.000000   17.400000    6.950000   17.025000   \n",
       "50%      3.207450    5.000000  330.000000   19.050000   11.360000   21.200000   \n",
       "75%      5.188425   24.000000  666.000000   20.200000   16.955000   25.000000   \n",
       "max     12.126500   24.000000  711.000000   22.000000   37.970000   50.000000   \n",
       "\n",
       "       CHAR_RIV_Y  C_MVALUE_Yes  \n",
       "count  506.000000    506.000000  \n",
       "mean     0.069170      0.166008  \n",
       "std      0.253994      0.372456  \n",
       "min      0.000000      0.000000  \n",
       "25%      0.000000      0.000000  \n",
       "50%      0.000000      0.000000  \n",
       "75%      0.000000      0.000000  \n",
       "max      1.000000      1.000000  "
      ]
     },
     "execution_count": 364,
     "metadata": {},
     "output_type": "execute_result"
    }
   ],
   "source": [
    "boston_df.describe()"
   ]
  },
  {
   "attachments": {},
   "cell_type": "markdown",
   "id": "615cd22d",
   "metadata": {},
   "source": [
    "We know that in case of N missing values in a column, count for the same column will be reduced by N. In boston_df data frame, count for each column is equal to the total number of rows of the data frame. This helps us to conclude that there is no missing value in any of the column in the entire data frame"
   ]
  },
  {
   "cell_type": "markdown",
   "id": "de033410",
   "metadata": {},
   "source": [
    "____________________________________________________________________________________________________________________"
   ]
  },
  {
   "cell_type": "markdown",
   "id": "965bb8c5",
   "metadata": {},
   "source": [
    "## 2A"
   ]
  },
  {
   "cell_type": "code",
   "execution_count": 365,
   "id": "035fbf0e",
   "metadata": {},
   "outputs": [],
   "source": [
    "#Partitioning Data\n",
    "\n",
    "# Identify predictors(col names) and outcome(target Name) of the regression model]\\\n",
    "# These are just names ( not data)\n",
    "predictors = ['CRIME', 'ZONE', 'INDUST', 'NIT_OXIDE', 'ROOMS', 'AGE', 'DISTANCE',\n",
    "       'RADIAL', 'TAX', 'ST_RATIO', 'LOW_STAT', 'CHAR_RIV_Y',\n",
    "       'C_MVALUE_Yes']\n",
    "\n",
    "outcome = 'MVALUE'\n",
    "\n",
    "\n",
    "\n",
    "# Identify X and y variables for regression and partition data\n",
    "# using 60% of records for training and 40% for validation (test_size=0.4). \n",
    "X = boston_df[predictors]\n",
    "Y = boston_df[outcome]\n",
    "train_X, valid_X, train_y, valid_y = train_test_split(X, Y, test_size=0.4, random_state=1)"
   ]
  },
  {
   "cell_type": "code",
   "execution_count": 366,
   "id": "eaee1b92",
   "metadata": {},
   "outputs": [
    {
     "name": "stdout",
     "output_type": "stream",
     "text": [
      "43.65353695296477\n",
      "[-1.43638902e-01  8.08022501e-03  1.16465806e-01 -1.64685693e+01\n",
      "  8.93409024e-01 -5.28222118e-03 -7.19404813e-01  1.99053114e-01\n",
      " -7.29552121e-03 -5.81312293e-01 -4.51815711e-01  2.10943383e+00\n",
      "  1.09908492e+01]\n",
      "\n",
      "\n",
      "Regression Model for BostonHousing Training Set:\n",
      "Intercept:  43.65\n",
      "       Predictor  Coefficient\n",
      "0          CRIME        -0.14\n",
      "1           ZONE         0.01\n",
      "2         INDUST         0.12\n",
      "3      NIT_OXIDE       -16.47\n",
      "4          ROOMS         0.89\n",
      "5            AGE        -0.01\n",
      "6       DISTANCE        -0.72\n",
      "7         RADIAL         0.20\n",
      "8            TAX        -0.01\n",
      "9       ST_RATIO        -0.58\n",
      "10      LOW_STAT        -0.45\n",
      "11    CHAR_RIV_Y         2.11\n",
      "12  C_MVALUE_Yes        10.99\n"
     ]
    }
   ],
   "source": [
    "#Creating Linear Regression Model\n",
    "#We have already imported LinearRegression method from Skilearn (skikit-learn) and we will use it now\n",
    "lm = LinearRegression()\n",
    "lm.fit(train_X, train_y)\n",
    "\n",
    "#Coffeienct of line for entire Model\n",
    "print(lm.intercept_)\n",
    "#Coffient of each of line w.r.t Simple Linear Rgesression\n",
    "print(lm.coef_)\n",
    "\n",
    "\n",
    "# Presenting out put in tabular form:\n",
    "print(\"\")\n",
    "print(\"\")\n",
    "print('Regression Model for BostonHousing Training Set:')\n",
    "print('Intercept: ', np.round(lm.intercept_,2))\n",
    "print(pd.DataFrame({'Predictor': X.columns, 'Coefficient': np.round(lm.coef_,2)}))"
   ]
  },
  {
   "cell_type": "markdown",
   "id": "0270213f",
   "metadata": {},
   "source": [
    "MVALUE = 43.65 -0.14(CRIME) +0.01(ZONE) +0.12(INDUST) - 16.47(NIT_OXIDE) + 0.89(ROOMS) -0.01(AGE) -0.72(DISTANCE) + 0.20(RADIAL) -0.01(TAX) -0.58(ST_RATIO) -0.45(LOW_STAT) +2.11(CHAR_RIV_Y) + 10.99(C_MVALUE_Yes)"
   ]
  },
  {
   "cell_type": "markdown",
   "id": "e96e630e",
   "metadata": {},
   "source": [
    "## 2B"
   ]
  },
  {
   "cell_type": "code",
   "execution_count": 367,
   "id": "833a08ed",
   "metadata": {},
   "outputs": [
    {
     "name": "stdout",
     "output_type": "stream",
     "text": [
      "Prediction Performance Measures for Training Set\n",
      "r2 :  0.839\n",
      "Adjusted r2 :  0.832\n",
      "AIC :  1663.52\n",
      "BIC :  1719.22\n",
      "\n",
      "Prediction Performance Measures for Validation Set\n",
      "r2 :  0.834\n",
      "adjusted r2 :  0.822\n",
      "AIC :  1156.17\n",
      "BIC :  1205.87\n"
     ]
    }
   ],
   "source": [
    "# Use predict() function to make predictions for training set and also for validation set as well\n",
    "#Prediction for training set\n",
    "pred_y = lm.predict(train_X)\n",
    "\n",
    "#Model Prediction for Validation set\n",
    "lm_pred = lm.predict(valid_X)\n",
    "\n",
    "#Lets Calcuate the R square\n",
    "r2 = round(r2_score(train_y, pred_y),3)\n",
    "adj_r2 = round(adjusted_r2_score(train_y, pred_y, lm),3)\n",
    "aic = round(AIC_score(train_y, pred_y, lm),2)\n",
    "bic = round(BIC_score(train_y, pred_y, lm),2)\n",
    "\n",
    "\n",
    "# Display prediction performance measures for training set.\n",
    "print('Prediction Performance Measures for Training Set')\n",
    "print('r2 : ', r2)\n",
    "print('Adjusted r2 : ', adj_r2)\n",
    "print('AIC : ', aic)\n",
    "print('BIC : ', bic)\n",
    "print() \n",
    "\n",
    "# Create prediction performance measures for validation set.\n",
    "r2 = round(r2_score(valid_y, lm_pred),3)\n",
    "adj_r2 = round(adjusted_r2_score(valid_y, lm_pred, lm),3)\n",
    "aic = round(AIC_score(valid_y, lm_pred, lm),2)\n",
    "bic = round(BIC_score(valid_y, lm_pred, lm),2)\n",
    "\n",
    "# Display prediction performance measures for validation set.\n",
    "print('Prediction Performance Measures for Validation Set')\n",
    "print('r2 : ', r2)\n",
    "print('adjusted r2 : ', adj_r2)\n",
    "print('AIC : ', aic)\n",
    "print('BIC : ', bic)"
   ]
  },
  {
   "cell_type": "markdown",
   "id": "fe951376",
   "metadata": {},
   "source": [
    "- We can see R square and adjusted R square are very close. Hence there is no overfitting in our model"
   ]
  },
  {
   "cell_type": "markdown",
   "id": "959b1677",
   "metadata": {},
   "source": [
    "## 2C"
   ]
  },
  {
   "cell_type": "code",
   "execution_count": 368,
   "id": "143371c9",
   "metadata": {},
   "outputs": [
    {
     "name": "stdout",
     "output_type": "stream",
     "text": [
      "Actual, Prediction, and Residual Prices for Validation Set\n",
      "     Actual  Predicted  Residual\n",
      "307    28.2      25.53      2.67\n",
      "343    23.9      22.95      0.95\n",
      "47     16.6      17.89     -1.29\n",
      "67     22.0      21.81      0.19\n",
      "362    20.8      18.89      1.91\n",
      "132    23.0      19.60      3.40\n",
      "292    27.9      25.95      1.95\n",
      "31     14.5      17.90     -3.40\n",
      "218    21.5      22.40     -0.90\n",
      "90     22.6      23.25     -0.65\n"
     ]
    }
   ],
   "source": [
    "#Another info to extract from the Model is What VALUE have i predicted, actual price and Residual (Difference)\n",
    "print('Actual, Prediction, and Residual Prices for Validation Set')\n",
    "result = round(pd.DataFrame({'Actual': valid_y,'Predicted': lm_pred, \n",
    "                       'Residual': valid_y - lm_pred}), 2)\n",
    "print(result.head(10))"
   ]
  },
  {
   "cell_type": "code",
   "execution_count": 369,
   "id": "4d358095",
   "metadata": {},
   "outputs": [
    {
     "name": "stdout",
     "output_type": "stream",
     "text": [
      "Accuracy Measures for Training Set - All Variables\n",
      "\n",
      "Regression statistics\n",
      "\n",
      "                      Mean Error (ME) : 0.0000\n",
      "       Root Mean Squared Error (RMSE) : 3.5845\n",
      "            Mean Absolute Error (MAE) : 2.5961\n",
      "          Mean Percentage Error (MPE) : -2.7127\n",
      "Mean Absolute Percentage Error (MAPE) : 13.1715\n",
      "\n",
      "Accuracy Measures for Validation Set - All Variables\n",
      "\n",
      "Regression statistics\n",
      "\n",
      "                      Mean Error (ME) : 0.4347\n",
      "       Root Mean Squared Error (RMSE) : 3.8763\n",
      "            Mean Absolute Error (MAE) : 2.7696\n",
      "          Mean Percentage Error (MPE) : -2.2773\n",
      "Mean Absolute Percentage Error (MAPE) : 13.3233\n"
     ]
    }
   ],
   "source": [
    "#But instead of observing difference for each values of each row, we can directly extract the error summary\n",
    "\n",
    "# Display common accuracy measures for training set.\n",
    "print('Accuracy Measures for Training Set - All Variables')\n",
    "regressionSummary(train_y, pred_y)\n",
    "print()\n",
    "\n",
    "# Display common accuracy measures for validation set.\n",
    "print('Accuracy Measures for Validation Set - All Variables')\n",
    "regressionSummary(valid_y, lm_pred)"
   ]
  },
  {
   "cell_type": "markdown",
   "id": "58c32ff2",
   "metadata": {},
   "source": [
    "_________________________________________________________________________________________________________________"
   ]
  },
  {
   "cell_type": "markdown",
   "id": "f3ef2c7b",
   "metadata": {},
   "source": [
    "## 3A"
   ]
  },
  {
   "cell_type": "code",
   "execution_count": 370,
   "id": "ac5644dc",
   "metadata": {},
   "outputs": [
    {
     "name": "stdout",
     "output_type": "stream",
     "text": [
      "     n     r2adj          AIC    AGE  CHAR_RIV_Y  CRIME  C_MVALUE_Yes  DISTANCE  INDUST  LOW_STAT  \\\n",
      "0    1  0.604171  1911.931006  False       False  False          True     False   False     False   \n",
      "1    2  0.793030  1716.454818  False       False  False          True     False   False      True   \n",
      "2    3  0.804621  1699.980252  False       False   True          True     False   False      True   \n",
      "3    4  0.810106  1692.338134  False        True   True          True     False   False      True   \n",
      "4    5  0.814675  1685.940421  False        True   True          True     False   False      True   \n",
      "5    6  0.821125  1676.183684  False       False   True          True      True   False      True   \n",
      "6    7  0.826096  1668.619824  False       False   True          True      True   False      True   \n",
      "7    8  0.830529  1661.766431  False        True   True          True      True   False      True   \n",
      "8    9  0.831819  1660.418877  False        True   True          True      True   False      True   \n",
      "9   10  0.831941  1661.163238  False        True   True          True      True    True      True   \n",
      "10  11  0.833103  1660.021045  False        True   True          True      True    True      True   \n",
      "11  12  0.832716  1661.680840  False        True   True          True      True    True      True   \n",
      "12  13  0.832228  1663.515572   True        True   True          True      True    True      True   \n",
      "\n",
      "    NIT_OXIDE  RADIAL  ROOMS  ST_RATIO    TAX   ZONE  \n",
      "0       False   False  False     False  False  False  \n",
      "1       False   False  False     False  False  False  \n",
      "2       False   False  False     False  False  False  \n",
      "3       False   False  False     False  False  False  \n",
      "4       False   False  False      True  False  False  \n",
      "5        True   False  False      True  False  False  \n",
      "6        True    True  False      True  False  False  \n",
      "7        True    True  False      True  False  False  \n",
      "8        True    True   True      True  False  False  \n",
      "9        True    True   True      True  False  False  \n",
      "10       True    True   True      True   True  False  \n",
      "11       True    True   True      True   True   True  \n",
      "12       True    True   True      True   True   True  \n"
     ]
    }
   ],
   "source": [
    "#Exhautive serach Method:\n",
    "\n",
    "#It takes three argumnets (The X column names used for modeling, The Model itself, and adjusted R square)\n",
    "#Then it provides reslut of adjusted R square for all variables \n",
    "#Note that instead of  adj R square in third argument, we can put any calculation we want to see\n",
    "\n",
    "\n",
    "#Argument 1: All X columns\n",
    "allVariables = train_X.columns\n",
    "\n",
    "# Arugments 2: Now lets Define train_model() function used in Executive Search algorithm.\n",
    "def train_model(variables):\n",
    "    model = LinearRegression()\n",
    "    model.fit(train_X[variables], train_y)\n",
    "    return model\n",
    "\n",
    "# Argument 3: Adj R Square. Define score_model() function used in Executive Search\n",
    "# algorithm with executive_search() function. \n",
    "def score_model(model, variables):\n",
    "    pred_y = model.predict(train_X[variables])\n",
    "    # Apply negative sign as score is optimized to be \n",
    "    # as low as possible in exhaustive_search() function.\n",
    "    return -adjusted_r2_score(train_y, pred_y, model)\n",
    "\n",
    "\n",
    "\n",
    "# Now Lets launch exhaustive_search function with three arguments\n",
    "results = exhaustive_search(allVariables, train_model, score_model)\n",
    "\n",
    "\n",
    "#The results of above step can be directly seen but we will modify it to present in a better way \n",
    "data = []\n",
    "for result in results:\n",
    "    model = result['model']\n",
    "    variables = result['variables']\n",
    "    AIC = AIC_score(train_y, model.predict(train_X[variables]), model)\n",
    "    d = {'n': result['n'], 'r2adj': -result['score'], 'AIC': AIC}\n",
    "    d.update({var: var in result['variables'] for var in allVariables})\n",
    "    data.append(d)\n",
    "\n",
    "\n",
    "#In Python We can also see the output within our own witdh dispay on screen\n",
    "pd.set_option('display.width', 100)\n",
    "\n",
    "\n",
    "# Display the Exhaustive Search results.\n",
    "print(pd.DataFrame(data, columns=('n', 'r2adj', 'AIC') + tuple(sorted(allVariables))))\n",
    "\n",
    "\n",
    "# Reset the output width to the default. \n",
    "pd.reset_option('display.width')"
   ]
  },
  {
   "cell_type": "markdown",
   "id": "b350fd31",
   "metadata": {},
   "source": [
    "We can from the output that 11 Predictors ( excluding AGE and Zone), our model has best adjusted rSquare of 0.833103"
   ]
  },
  {
   "cell_type": "code",
   "execution_count": 371,
   "id": "9c279b2d",
   "metadata": {},
   "outputs": [
    {
     "name": "stdout",
     "output_type": "stream",
     "text": [
      "Regression Model for Training Set Using Exhaustive Search\n",
      "\n",
      "Intercept  43.89\n",
      "       Predictor  Coefficient\n",
      "0          CRIME        -0.14\n",
      "1         INDUST         0.11\n",
      "2      NIT_OXIDE       -16.89\n",
      "3          ROOMS         0.86\n",
      "4       DISTANCE        -0.63\n",
      "5         RADIAL         0.19\n",
      "6            TAX        -0.01\n",
      "7       ST_RATIO        -0.61\n",
      "8       LOW_STAT        -0.46\n",
      "9     CHAR_RIV_Y         2.13\n",
      "10  C_MVALUE_Yes        11.11\n"
     ]
    }
   ],
   "source": [
    "# Develop the multiple linear regression model based on the Exhaustive Search results.\n",
    "\n",
    "# Identify predictors and outcome of the regression model.\n",
    "predictors_ex = ['CRIME', 'INDUST', 'NIT_OXIDE', 'ROOMS', 'DISTANCE',\n",
    "       'RADIAL', 'TAX', 'ST_RATIO', 'LOW_STAT', 'CHAR_RIV_Y',\n",
    "       'C_MVALUE_Yes']\n",
    "\n",
    "outcome = 'MVALUE'\n",
    "\n",
    "#Identify X and y variables for regression and partition data using 60% of records for training and 40% for validation\n",
    "\n",
    "X = boston_df[predictors_ex]\n",
    "y = boston_df[outcome]\n",
    "train_X_ex, valid_X_ex, train_y_ex, valid_y_ex = \\\n",
    "          train_test_split(X, y, test_size=0.4, random_state=1)\n",
    "\n",
    "# Create multiple linear regression model using X and y.\n",
    "lm_ex = LinearRegression()\n",
    "lm_ex.fit(train_X_ex, train_y_ex)\n",
    "\n",
    "# Display intercept and regression coefficients. Round them to 2 decimals.\n",
    "print('Regression Model for Training Set Using Exhaustive Search')\n",
    "print()\n",
    "print('Intercept ', np.round(lm_ex.intercept_, 2))\n",
    "print(pd.DataFrame({'Predictor': X.columns,\n",
    "            'Coefficient': np.round(lm_ex.coef_, 2)}))"
   ]
  },
  {
   "cell_type": "markdown",
   "id": "d622cf82",
   "metadata": {},
   "source": [
    "MVALUE = 43.89 -0.14(CRIME)  +0.11(INDUST) - 16.89(NIT_OXIDE) + 0.86(ROOMS) -0.63(DISTANCE) + 0.19(RADIAL) -0.01(TAX) -0.61(ST_RATIO) -0.46(LOW_STAT) +2.13(CHAR_RIV_Y) + 11.11(C_MVALUE_Yes)"
   ]
  },
  {
   "cell_type": "code",
   "execution_count": 372,
   "id": "d3967b0f",
   "metadata": {},
   "outputs": [
    {
     "name": "stdout",
     "output_type": "stream",
     "text": [
      "\n",
      "Prediction for Validation Set Using Exhaustive Search\n",
      "     Actual  Predicted  Residual\n",
      "307    28.2      25.24      2.96\n",
      "343    23.9      22.78      1.12\n",
      "47     16.6      18.17     -1.57\n",
      "67     22.0      21.86      0.14\n",
      "362    20.8      18.93      1.87\n",
      "132    23.0      19.58      3.42\n",
      "292    27.9      25.25      2.65\n",
      "31     14.5      18.06     -3.56\n",
      "218    21.5      22.49     -0.99\n",
      "90     22.6      23.28     -0.68\n",
      "\n",
      "Accuracy Measures for Validation Set Using Exhaustive Search\n",
      "\n",
      "Regression statistics\n",
      "\n",
      "                      Mean Error (ME) : 0.4505\n",
      "       Root Mean Squared Error (RMSE) : 3.8674\n",
      "            Mean Absolute Error (MAE) : 2.7724\n",
      "          Mean Percentage Error (MPE) : -2.1963\n",
      "Mean Absolute Percentage Error (MAPE) : 13.3441\n"
     ]
    }
   ],
   "source": [
    "# Use predict() function make predictions for validation set and measure their accuracy.\n",
    "lm_ex_pred = lm_ex.predict(valid_X_ex)\n",
    "\n",
    "\n",
    "\n",
    "# Develop and display data frame with actual values of Price, scoring (predicted) results, and residuals.\n",
    "result = round(pd.DataFrame({'Actual': valid_y_ex,'Predicted': lm_ex_pred, \n",
    "                       'Residual': valid_y_ex - lm_ex_pred}), 2)\n",
    "print()\n",
    "print('Prediction for Validation Set Using Exhaustive Search') \n",
    "print(result.head(10))\n",
    "\n",
    "# Display common accuracy measures for validation set.\n",
    "print()\n",
    "print('Accuracy Measures for Validation Set Using Exhaustive Search')\n",
    "regressionSummary(valid_y_ex, lm_ex_pred)"
   ]
  },
  {
   "cell_type": "markdown",
   "id": "92462de2",
   "metadata": {},
   "source": [
    "- We can see with optimization of selection of predictor our RMSE has decreased slightly from 3.87 to 3.86"
   ]
  },
  {
   "cell_type": "markdown",
   "id": "48396384",
   "metadata": {},
   "source": [
    "## 3B"
   ]
  },
  {
   "cell_type": "code",
   "execution_count": 373,
   "id": "60305d06",
   "metadata": {},
   "outputs": [
    {
     "name": "stdout",
     "output_type": "stream",
     "text": [
      "Variables: CRIME, ZONE, INDUST, NIT_OXIDE, ROOMS, AGE, DISTANCE, RADIAL, TAX, ST_RATIO, LOW_STAT, CHAR_RIV_Y, C_MVALUE_Yes\n",
      "Start: score=2191.75, constant\n",
      "Step: score=1911.93, add C_MVALUE_Yes\n",
      "Step: score=1716.45, add LOW_STAT\n",
      "Step: score=1699.98, add CRIME\n",
      "Step: score=1692.34, add CHAR_RIV_Y\n",
      "Step: score=1685.94, add ST_RATIO\n",
      "Step: score=1682.90, add ROOMS\n",
      "Step: score=1680.20, add DISTANCE\n",
      "Step: score=1665.78, add NIT_OXIDE\n",
      "Step: score=1660.42, add RADIAL\n",
      "Step: score=1660.42, add None\n",
      "\n",
      "Best Variables from Forward Selection Algorithm\n",
      "['C_MVALUE_Yes', 'LOW_STAT', 'CRIME', 'CHAR_RIV_Y', 'ST_RATIO', 'ROOMS', 'DISTANCE', 'NIT_OXIDE', 'RADIAL']\n"
     ]
    }
   ],
   "source": [
    "# Define train_model() function used in Forward Selection\n",
    "# algorithm with forward_selection() function. \n",
    "# The initial model is the constant model - this requires \n",
    "# special handling in train_model and score_model.\n",
    "\n",
    "def train_model(variables):\n",
    "    if len(variables) == 0:\n",
    "        return None\n",
    "    model = LinearRegression()\n",
    "    model.fit(train_X[variables], train_y)\n",
    "    return model\n",
    "\n",
    "# Define score_model() function used in Forward Selection\n",
    "# algorithm with forward_selection() function. \n",
    "def score_model(model, variables):\n",
    "    if len(variables) == 0:\n",
    "        return AIC_score(train_y, [train_y.mean()] * len(train_y), model, df=1)\n",
    "    return AIC_score(train_y, model.predict(train_X[variables]), model)\n",
    "\n",
    "# Use forward_selection() function to identify the\n",
    "# best_model and best_variables.\n",
    "best_model_fs, best_variables_fs = forward_selection(train_X.columns, \n",
    "                    train_model, score_model, verbose=True)\n",
    "\n",
    "# Display best variables based on Forward Selection algorithm.\n",
    "print()\n",
    "print('Best Variables from Forward Selection Algorithm')\n",
    "print(best_variables_fs)"
   ]
  },
  {
   "cell_type": "code",
   "execution_count": 374,
   "id": "739743bc",
   "metadata": {},
   "outputs": [
    {
     "name": "stdout",
     "output_type": "stream",
     "text": [
      "Regression Model for Training Set Using Forward Selection\n",
      "\n",
      "Intercept  42.76\n",
      "      Predictor  Coefficient\n",
      "0         CRIME        -0.14\n",
      "1     NIT_OXIDE       -15.95\n",
      "2         ROOMS         0.87\n",
      "3      DISTANCE        -0.71\n",
      "4        RADIAL         0.11\n",
      "5      ST_RATIO        -0.60\n",
      "6      LOW_STAT        -0.45\n",
      "7    CHAR_RIV_Y         2.36\n",
      "8  C_MVALUE_Yes        10.97\n"
     ]
    }
   ],
   "source": [
    "# Develop the multiple linear regression model based\n",
    "# on the Forward Selection results.\n",
    "\n",
    "# Identify predictors and outcome of the regression model.\n",
    "predictors_fs = ['CRIME', 'NIT_OXIDE', 'ROOMS', 'DISTANCE',\n",
    "       'RADIAL', 'ST_RATIO', 'LOW_STAT', 'CHAR_RIV_Y',\n",
    "       'C_MVALUE_Yes']\n",
    "\n",
    "outcome = 'MVALUE'\n",
    "\n",
    "# Identify X and y variables for regression and partition data\n",
    "# using 60% of records for training and 40% for validation \n",
    "# (test_size=0.4). \n",
    "X = boston_df[predictors_fs]\n",
    "y = boston_df[outcome]\n",
    "train_X_fs, valid_X_fs, train_y_fs, valid_y_fs = \\\n",
    "          train_test_split(X, y, test_size=0.4, random_state=1)\n",
    "\n",
    "# Create multiple linear regression model using X and y.\n",
    "lm_fs = LinearRegression()\n",
    "lm_fs.fit(train_X_fs, train_y_fs)\n",
    "\n",
    "# Display intercept and regression coefficients. Round them\n",
    "# to 2 decimals.\n",
    "print('Regression Model for Training Set Using Forward Selection')\n",
    "print()\n",
    "print('Intercept ', np.round(lm_fs.intercept_, 2))\n",
    "print(pd.DataFrame({'Predictor': X.columns,\n",
    "            'Coefficient': np.round(lm_fs.coef_, 2)}))"
   ]
  },
  {
   "cell_type": "markdown",
   "id": "90d44e87",
   "metadata": {},
   "source": [
    "MVALUE = 42.76 -0.14(CRIME) - 15.95(NIT_OXIDE) + 0.87(ROOMS) -0.71(DISTANCE) + 0.11(RADIAL) -0.60(ST_RATIO) -0.45(LOW_STAT) +2.36(CHAR_RIV_Y) + 10.97(C_MVALUE_Yes)"
   ]
  },
  {
   "cell_type": "code",
   "execution_count": 375,
   "id": "d02a771f",
   "metadata": {},
   "outputs": [
    {
     "name": "stdout",
     "output_type": "stream",
     "text": [
      "\n",
      "Predictions for Validation Set Using Forward Selection\n",
      "     Actual  Predicted  Residual\n",
      "307    28.2      25.20      3.00\n",
      "343    23.9      23.48      0.42\n",
      "47     16.6      17.85     -1.25\n",
      "67     22.0      22.11     -0.11\n",
      "362    20.8      18.97      1.83\n",
      "132    23.0      19.27      3.73\n",
      "292    27.9      25.07      2.83\n",
      "31     14.5      18.21     -3.71\n",
      "218    21.5      22.04     -0.54\n",
      "90     22.6      23.86     -1.26\n",
      "\n",
      "Accuracy Measures for Validation Set Using Forward Selection\n",
      "\n",
      "Regression statistics\n",
      "\n",
      "                      Mean Error (ME) : 0.4321\n",
      "       Root Mean Squared Error (RMSE) : 3.9314\n",
      "            Mean Absolute Error (MAE) : 2.8585\n",
      "          Mean Percentage Error (MPE) : -2.3792\n",
      "Mean Absolute Percentage Error (MAPE) : 13.8040\n"
     ]
    }
   ],
   "source": [
    "# Use predict() to score predictions for validation set.\n",
    "lm_fs_pred = lm_fs.predict(valid_X_fs)\n",
    "\n",
    "# Develop and display data frame with actual values of Price,\n",
    "# scoring (predicted) results, and residuals.\n",
    "# Use round() function to round vlaues in data frame to \n",
    "# 2 decimals. \n",
    "result = round(pd.DataFrame({'Actual': valid_y_fs,'Predicted': lm_fs_pred, \n",
    "                       'Residual': valid_y_fs - lm_fs_pred}), 2)\n",
    "print()\n",
    "print('Predictions for Validation Set Using Forward Selection')\n",
    "print(result.head(10))\n",
    "\n",
    "# Display common accuracy measures for validation set.\n",
    "print()\n",
    "print('Accuracy Measures for Validation Set Using Forward Selection')\n",
    "regressionSummary(valid_y_fs, lm_fs_pred)"
   ]
  },
  {
   "cell_type": "markdown",
   "id": "7e01c9cb",
   "metadata": {},
   "source": [
    "- We can see Common Accuracy Measure errors are high for predictors from Forward selcetion\n",
    "- Hence we will stick to 11 Predictors resluted from exhautive search Method"
   ]
  }
 ],
 "metadata": {
  "kernelspec": {
   "display_name": "Python 3 (ipykernel)",
   "language": "python",
   "name": "python3"
  },
  "language_info": {
   "codemirror_mode": {
    "name": "ipython",
    "version": 3
   },
   "file_extension": ".py",
   "mimetype": "text/x-python",
   "name": "python",
   "nbconvert_exporter": "python",
   "pygments_lexer": "ipython3",
   "version": "3.8.8"
  }
 },
 "nbformat": 4,
 "nbformat_minor": 5
}
